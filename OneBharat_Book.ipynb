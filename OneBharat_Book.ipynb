{
 "cells": [
  {
   "cell_type": "markdown",
   "id": "b44e70f6",
   "metadata": {},
   "source": [
    "## OneBharat Assignment - 1"
   ]
  },
  {
   "cell_type": "code",
   "execution_count": 80,
   "id": "73d03a8d",
   "metadata": {},
   "outputs": [],
   "source": [
    "import pandas as pd\n",
    "import numpy as np\n",
    "import matplotlib.pyplot as plt"
   ]
  },
  {
   "cell_type": "code",
   "execution_count": 124,
   "id": "b4107f36",
   "metadata": {},
   "outputs": [
    {
     "data": {
      "text/html": [
       "<div>\n",
       "<style scoped>\n",
       "    .dataframe tbody tr th:only-of-type {\n",
       "        vertical-align: middle;\n",
       "    }\n",
       "\n",
       "    .dataframe tbody tr th {\n",
       "        vertical-align: top;\n",
       "    }\n",
       "\n",
       "    .dataframe thead th {\n",
       "        text-align: right;\n",
       "    }\n",
       "</style>\n",
       "<table border=\"1\" class=\"dataframe\">\n",
       "  <thead>\n",
       "    <tr style=\"text-align: right;\">\n",
       "      <th></th>\n",
       "      <th>Account</th>\n",
       "    </tr>\n",
       "  </thead>\n",
       "  <tbody>\n",
       "    <tr>\n",
       "      <th>Profile</th>\n",
       "      <td>{'Holders': {'type': 'SINGLE', 'Holder': {'nam...</td>\n",
       "    </tr>\n",
       "    <tr>\n",
       "      <th>Summary</th>\n",
       "      <td>{'currentBalance': '761.41', 'currency': 'INR'...</td>\n",
       "    </tr>\n",
       "    <tr>\n",
       "      <th>Transactions</th>\n",
       "      <td>{'startDate': '2023-05-31', 'endDate': '2024-0...</td>\n",
       "    </tr>\n",
       "    <tr>\n",
       "      <th>linkedAccRef</th>\n",
       "      <td>02f28b8d-d8a3-43d7-88c6-5fabb2e51541</td>\n",
       "    </tr>\n",
       "    <tr>\n",
       "      <th>maskedAccNumber</th>\n",
       "      <td>XXXX6461</td>\n",
       "    </tr>\n",
       "  </tbody>\n",
       "</table>\n",
       "</div>"
      ],
      "text/plain": [
       "                                                           Account\n",
       "Profile          {'Holders': {'type': 'SINGLE', 'Holder': {'nam...\n",
       "Summary          {'currentBalance': '761.41', 'currency': 'INR'...\n",
       "Transactions     {'startDate': '2023-05-31', 'endDate': '2024-0...\n",
       "linkedAccRef                  02f28b8d-d8a3-43d7-88c6-5fabb2e51541\n",
       "maskedAccNumber                                           XXXX6461"
      ]
     },
     "execution_count": 124,
     "metadata": {},
     "output_type": "execute_result"
    }
   ],
   "source": [
    "df = pd.read_json('P1- BankStatements.json')\n",
    "df.head()"
   ]
  },
  {
   "cell_type": "code",
   "execution_count": 133,
   "id": "b4d12dd3",
   "metadata": {},
   "outputs": [],
   "source": [
    "account_profile_df = pd.json_normalize(df['Account']['Profile']['Holders'])\n",
    "summary_df = pd.json_normalize(df['Account']['Summary'])\n",
    "transactions_df = pd.json_normalize(df['Account']['Transactions']['Transaction'])"
   ]
  },
  {
   "cell_type": "code",
   "execution_count": 126,
   "id": "71056e56",
   "metadata": {},
   "outputs": [
    {
     "data": {
      "text/html": [
       "<div>\n",
       "<style scoped>\n",
       "    .dataframe tbody tr th:only-of-type {\n",
       "        vertical-align: middle;\n",
       "    }\n",
       "\n",
       "    .dataframe tbody tr th {\n",
       "        vertical-align: top;\n",
       "    }\n",
       "\n",
       "    .dataframe thead th {\n",
       "        text-align: right;\n",
       "    }\n",
       "</style>\n",
       "<table border=\"1\" class=\"dataframe\">\n",
       "  <thead>\n",
       "    <tr style=\"text-align: right;\">\n",
       "      <th></th>\n",
       "      <th>type</th>\n",
       "      <th>Holder.name</th>\n",
       "      <th>Holder.dob</th>\n",
       "      <th>Holder.mobile</th>\n",
       "      <th>Holder.nominee</th>\n",
       "      <th>Holder.address</th>\n",
       "      <th>Holder.email</th>\n",
       "      <th>Holder.pan</th>\n",
       "      <th>Holder.ckycCompliance</th>\n",
       "    </tr>\n",
       "  </thead>\n",
       "  <tbody>\n",
       "    <tr>\n",
       "      <th>0</th>\n",
       "      <td>SINGLE</td>\n",
       "      <td>Arun Shakya</td>\n",
       "      <td>2000-06-09</td>\n",
       "      <td>8429489761</td>\n",
       "      <td>REGISTERED</td>\n",
       "      <td></td>\n",
       "      <td>NA</td>\n",
       "      <td>FORM60</td>\n",
       "      <td>true</td>\n",
       "    </tr>\n",
       "  </tbody>\n",
       "</table>\n",
       "</div>"
      ],
      "text/plain": [
       "     type  Holder.name  Holder.dob Holder.mobile Holder.nominee  \\\n",
       "0  SINGLE  Arun Shakya  2000-06-09    8429489761     REGISTERED   \n",
       "\n",
       "  Holder.address Holder.email Holder.pan Holder.ckycCompliance  \n",
       "0                          NA     FORM60                  true  "
      ]
     },
     "execution_count": 126,
     "metadata": {},
     "output_type": "execute_result"
    }
   ],
   "source": [
    "account_profile_df"
   ]
  },
  {
   "cell_type": "code",
   "execution_count": 127,
   "id": "f6f56a8e",
   "metadata": {},
   "outputs": [
    {
     "data": {
      "text/html": [
       "<div>\n",
       "<style scoped>\n",
       "    .dataframe tbody tr th:only-of-type {\n",
       "        vertical-align: middle;\n",
       "    }\n",
       "\n",
       "    .dataframe tbody tr th {\n",
       "        vertical-align: top;\n",
       "    }\n",
       "\n",
       "    .dataframe thead th {\n",
       "        text-align: right;\n",
       "    }\n",
       "</style>\n",
       "<table border=\"1\" class=\"dataframe\">\n",
       "  <thead>\n",
       "    <tr style=\"text-align: right;\">\n",
       "      <th></th>\n",
       "      <th>currentBalance</th>\n",
       "      <th>currency</th>\n",
       "      <th>exchgeRate</th>\n",
       "      <th>balanceDateTime</th>\n",
       "      <th>type</th>\n",
       "      <th>branch</th>\n",
       "      <th>ifscCode</th>\n",
       "      <th>micrCode</th>\n",
       "      <th>openingDate</th>\n",
       "      <th>currentODLimit</th>\n",
       "      <th>drawingLimit</th>\n",
       "      <th>status</th>\n",
       "      <th>Pending.amount</th>\n",
       "    </tr>\n",
       "  </thead>\n",
       "  <tbody>\n",
       "    <tr>\n",
       "      <th>0</th>\n",
       "      <td>761.41</td>\n",
       "      <td>INR</td>\n",
       "      <td>1</td>\n",
       "      <td>2024-05-30T03:05:12+05:30</td>\n",
       "      <td>SAVINGS</td>\n",
       "      <td>AMETHI JADID, UP</td>\n",
       "      <td>BARB0AMEJAD</td>\n",
       "      <td>209012004</td>\n",
       "      <td>2020-11-24</td>\n",
       "      <td>0.00</td>\n",
       "      <td>0.00</td>\n",
       "      <td>ACTIVE</td>\n",
       "      <td>0.0</td>\n",
       "    </tr>\n",
       "  </tbody>\n",
       "</table>\n",
       "</div>"
      ],
      "text/plain": [
       "  currentBalance currency exchgeRate            balanceDateTime     type  \\\n",
       "0         761.41      INR          1  2024-05-30T03:05:12+05:30  SAVINGS   \n",
       "\n",
       "             branch     ifscCode   micrCode openingDate currentODLimit  \\\n",
       "0  AMETHI JADID, UP  BARB0AMEJAD  209012004  2020-11-24           0.00   \n",
       "\n",
       "  drawingLimit  status Pending.amount  \n",
       "0         0.00  ACTIVE            0.0  "
      ]
     },
     "execution_count": 127,
     "metadata": {},
     "output_type": "execute_result"
    }
   ],
   "source": [
    "summary_df"
   ]
  },
  {
   "cell_type": "code",
   "execution_count": 128,
   "id": "d76699d2",
   "metadata": {},
   "outputs": [
    {
     "data": {
      "text/html": [
       "<div>\n",
       "<style scoped>\n",
       "    .dataframe tbody tr th:only-of-type {\n",
       "        vertical-align: middle;\n",
       "    }\n",
       "\n",
       "    .dataframe tbody tr th {\n",
       "        vertical-align: top;\n",
       "    }\n",
       "\n",
       "    .dataframe thead th {\n",
       "        text-align: right;\n",
       "    }\n",
       "</style>\n",
       "<table border=\"1\" class=\"dataframe\">\n",
       "  <thead>\n",
       "    <tr style=\"text-align: right;\">\n",
       "      <th></th>\n",
       "      <th>type</th>\n",
       "      <th>mode</th>\n",
       "      <th>amount</th>\n",
       "      <th>currentBalance</th>\n",
       "      <th>transactionTimestamp</th>\n",
       "      <th>valueDate</th>\n",
       "      <th>txnId</th>\n",
       "      <th>narration</th>\n",
       "      <th>reference</th>\n",
       "    </tr>\n",
       "  </thead>\n",
       "  <tbody>\n",
       "    <tr>\n",
       "      <th>0</th>\n",
       "      <td>DEBIT</td>\n",
       "      <td>CARD</td>\n",
       "      <td>100.0</td>\n",
       "      <td>2180.80</td>\n",
       "      <td>2023-06-27T09:40:19+05:30</td>\n",
       "      <td>2023-06-27</td>\n",
       "      <td>S39488701</td>\n",
       "      <td>PRCR/MS NEHA FILLING STATIO/FARRUKHAB</td>\n",
       "      <td>NA</td>\n",
       "    </tr>\n",
       "    <tr>\n",
       "      <th>1</th>\n",
       "      <td>DEBIT</td>\n",
       "      <td>CARD</td>\n",
       "      <td>170.0</td>\n",
       "      <td>2010.80</td>\n",
       "      <td>2023-06-28T09:51:57+05:30</td>\n",
       "      <td>2023-06-28</td>\n",
       "      <td>S76862822</td>\n",
       "      <td>PRCR/MS NEHA FILLING STATIO/FARRUKHAB</td>\n",
       "      <td>NA</td>\n",
       "    </tr>\n",
       "    <tr>\n",
       "      <th>2</th>\n",
       "      <td>DEBIT</td>\n",
       "      <td>CARD</td>\n",
       "      <td>500.0</td>\n",
       "      <td>1510.80</td>\n",
       "      <td>2023-07-26T10:04:00+05:30</td>\n",
       "      <td>2023-07-26</td>\n",
       "      <td>S31451661</td>\n",
       "      <td>PRCR/MS NEHA FILLING STATIO/FARRUKHAB</td>\n",
       "      <td>NA</td>\n",
       "    </tr>\n",
       "    <tr>\n",
       "      <th>3</th>\n",
       "      <td>CREDIT</td>\n",
       "      <td>OTHERS</td>\n",
       "      <td>15.0</td>\n",
       "      <td>1525.80</td>\n",
       "      <td>2023-08-06T11:10:38+05:30</td>\n",
       "      <td>2023-07-31</td>\n",
       "      <td>S66463256</td>\n",
       "      <td>51888100006461IntPd01-05-2023 to 31-07-2023</td>\n",
       "      <td>NA</td>\n",
       "    </tr>\n",
       "    <tr>\n",
       "      <th>4</th>\n",
       "      <td>DEBIT</td>\n",
       "      <td>ATM</td>\n",
       "      <td>1000.0</td>\n",
       "      <td>525.80</td>\n",
       "      <td>2023-08-07T17:13:13+05:30</td>\n",
       "      <td>2023-08-07</td>\n",
       "      <td>S18475743</td>\n",
       "      <td>ATM/CASH/321917012791/XXXXXXXXXXXX8896</td>\n",
       "      <td>NA</td>\n",
       "    </tr>\n",
       "    <tr>\n",
       "      <th>...</th>\n",
       "      <td>...</td>\n",
       "      <td>...</td>\n",
       "      <td>...</td>\n",
       "      <td>...</td>\n",
       "      <td>...</td>\n",
       "      <td>...</td>\n",
       "      <td>...</td>\n",
       "      <td>...</td>\n",
       "      <td>...</td>\n",
       "    </tr>\n",
       "    <tr>\n",
       "      <th>980</th>\n",
       "      <td>DEBIT</td>\n",
       "      <td>UPI</td>\n",
       "      <td>80.0</td>\n",
       "      <td>23.41</td>\n",
       "      <td>2024-05-29T17:57:40+05:30</td>\n",
       "      <td>2024-05-29</td>\n",
       "      <td>S68913329</td>\n",
       "      <td>UPI/415067358040/175740/UPI/paytmqr1reyim9t8ap</td>\n",
       "      <td>NA</td>\n",
       "    </tr>\n",
       "    <tr>\n",
       "      <th>981</th>\n",
       "      <td>CREDIT</td>\n",
       "      <td>OTHERS</td>\n",
       "      <td>938.0</td>\n",
       "      <td>961.41</td>\n",
       "      <td>2024-05-30T05:07:05+05:30</td>\n",
       "      <td>2024-05-30</td>\n",
       "      <td>S87517914</td>\n",
       "      <td>NEFT-AXNPN15145877034-PHONEPE PRIVATE LIMITED-...</td>\n",
       "      <td>922020004688715</td>\n",
       "    </tr>\n",
       "    <tr>\n",
       "      <th>982</th>\n",
       "      <td>DEBIT</td>\n",
       "      <td>UPI</td>\n",
       "      <td>60.0</td>\n",
       "      <td>901.41</td>\n",
       "      <td>2024-05-30T09:58:24+05:30</td>\n",
       "      <td>2024-05-30</td>\n",
       "      <td>S94085910</td>\n",
       "      <td>UPI/451708846336/095823/UPI/Q936188905ybl/Paym</td>\n",
       "      <td>NA</td>\n",
       "    </tr>\n",
       "    <tr>\n",
       "      <th>983</th>\n",
       "      <td>DEBIT</td>\n",
       "      <td>UPI</td>\n",
       "      <td>130.0</td>\n",
       "      <td>771.41</td>\n",
       "      <td>2024-05-30T13:30:30+05:30</td>\n",
       "      <td>2024-05-30</td>\n",
       "      <td>S4676116</td>\n",
       "      <td>UPI/451747322898/133029/UPI/Q601737327ybl/Paym</td>\n",
       "      <td>NA</td>\n",
       "    </tr>\n",
       "    <tr>\n",
       "      <th>984</th>\n",
       "      <td>DEBIT</td>\n",
       "      <td>UPI</td>\n",
       "      <td>10.0</td>\n",
       "      <td>761.41</td>\n",
       "      <td>2024-05-30T13:38:20+05:30</td>\n",
       "      <td>2024-05-30</td>\n",
       "      <td>S5042978</td>\n",
       "      <td>UPI/451711506710/133820/UPI/Q596679282ybl/Paym</td>\n",
       "      <td>NA</td>\n",
       "    </tr>\n",
       "  </tbody>\n",
       "</table>\n",
       "<p>985 rows × 9 columns</p>\n",
       "</div>"
      ],
      "text/plain": [
       "       type    mode  amount currentBalance       transactionTimestamp  \\\n",
       "0     DEBIT    CARD   100.0        2180.80  2023-06-27T09:40:19+05:30   \n",
       "1     DEBIT    CARD   170.0        2010.80  2023-06-28T09:51:57+05:30   \n",
       "2     DEBIT    CARD   500.0        1510.80  2023-07-26T10:04:00+05:30   \n",
       "3    CREDIT  OTHERS    15.0        1525.80  2023-08-06T11:10:38+05:30   \n",
       "4     DEBIT     ATM  1000.0         525.80  2023-08-07T17:13:13+05:30   \n",
       "..      ...     ...     ...            ...                        ...   \n",
       "980   DEBIT     UPI    80.0          23.41  2024-05-29T17:57:40+05:30   \n",
       "981  CREDIT  OTHERS   938.0         961.41  2024-05-30T05:07:05+05:30   \n",
       "982   DEBIT     UPI    60.0         901.41  2024-05-30T09:58:24+05:30   \n",
       "983   DEBIT     UPI   130.0         771.41  2024-05-30T13:30:30+05:30   \n",
       "984   DEBIT     UPI    10.0         761.41  2024-05-30T13:38:20+05:30   \n",
       "\n",
       "      valueDate      txnId                                          narration  \\\n",
       "0    2023-06-27  S39488701              PRCR/MS NEHA FILLING STATIO/FARRUKHAB   \n",
       "1    2023-06-28  S76862822              PRCR/MS NEHA FILLING STATIO/FARRUKHAB   \n",
       "2    2023-07-26  S31451661              PRCR/MS NEHA FILLING STATIO/FARRUKHAB   \n",
       "3    2023-07-31  S66463256        51888100006461IntPd01-05-2023 to 31-07-2023   \n",
       "4    2023-08-07  S18475743             ATM/CASH/321917012791/XXXXXXXXXXXX8896   \n",
       "..          ...        ...                                                ...   \n",
       "980  2024-05-29  S68913329     UPI/415067358040/175740/UPI/paytmqr1reyim9t8ap   \n",
       "981  2024-05-30  S87517914  NEFT-AXNPN15145877034-PHONEPE PRIVATE LIMITED-...   \n",
       "982  2024-05-30  S94085910     UPI/451708846336/095823/UPI/Q936188905ybl/Paym   \n",
       "983  2024-05-30   S4676116     UPI/451747322898/133029/UPI/Q601737327ybl/Paym   \n",
       "984  2024-05-30   S5042978     UPI/451711506710/133820/UPI/Q596679282ybl/Paym   \n",
       "\n",
       "           reference  \n",
       "0                 NA  \n",
       "1                 NA  \n",
       "2                 NA  \n",
       "3                 NA  \n",
       "4                 NA  \n",
       "..               ...  \n",
       "980               NA  \n",
       "981  922020004688715  \n",
       "982               NA  \n",
       "983               NA  \n",
       "984               NA  \n",
       "\n",
       "[985 rows x 9 columns]"
      ]
     },
     "execution_count": 128,
     "metadata": {},
     "output_type": "execute_result"
    }
   ],
   "source": [
    "transactions_df"
   ]
  },
  {
   "cell_type": "markdown",
   "id": "118ea389",
   "metadata": {},
   "source": [
    "#### 1. Transaction Analysis:"
   ]
  },
  {
   "cell_type": "markdown",
   "id": "5d8e31da",
   "metadata": {},
   "source": [
    "Q1. What is the total number of transactions made over the year?"
   ]
  },
  {
   "cell_type": "code",
   "execution_count": 86,
   "id": "d8ecb1aa",
   "metadata": {},
   "outputs": [
    {
     "name": "stdout",
     "output_type": "stream",
     "text": [
      "<class 'pandas.core.frame.DataFrame'>\n",
      "RangeIndex: 985 entries, 0 to 984\n",
      "Data columns (total 9 columns):\n",
      " #   Column                Non-Null Count  Dtype \n",
      "---  ------                --------------  ----- \n",
      " 0   type                  985 non-null    object\n",
      " 1   mode                  985 non-null    object\n",
      " 2   amount                985 non-null    object\n",
      " 3   currentBalance        985 non-null    object\n",
      " 4   transactionTimestamp  985 non-null    object\n",
      " 5   valueDate             985 non-null    object\n",
      " 6   txnId                 985 non-null    object\n",
      " 7   narration             985 non-null    object\n",
      " 8   reference             985 non-null    object\n",
      "dtypes: object(9)\n",
      "memory usage: 69.4+ KB\n"
     ]
    }
   ],
   "source": [
    "transactions_df.info()"
   ]
  },
  {
   "cell_type": "markdown",
   "id": "4556b8e5",
   "metadata": {},
   "source": [
    "Ans1. Total number of transactions made for the given account are 985."
   ]
  },
  {
   "cell_type": "code",
   "execution_count": 87,
   "id": "545a7b04",
   "metadata": {
    "scrolled": true
   },
   "outputs": [
    {
     "data": {
      "text/html": [
       "<div>\n",
       "<style scoped>\n",
       "    .dataframe tbody tr th:only-of-type {\n",
       "        vertical-align: middle;\n",
       "    }\n",
       "\n",
       "    .dataframe tbody tr th {\n",
       "        vertical-align: top;\n",
       "    }\n",
       "\n",
       "    .dataframe thead th {\n",
       "        text-align: right;\n",
       "    }\n",
       "</style>\n",
       "<table border=\"1\" class=\"dataframe\">\n",
       "  <thead>\n",
       "    <tr style=\"text-align: right;\">\n",
       "      <th></th>\n",
       "      <th>type</th>\n",
       "      <th>mode</th>\n",
       "      <th>amount</th>\n",
       "      <th>currentBalance</th>\n",
       "      <th>transactionTimestamp</th>\n",
       "      <th>valueDate</th>\n",
       "      <th>txnId</th>\n",
       "      <th>narration</th>\n",
       "      <th>reference</th>\n",
       "    </tr>\n",
       "  </thead>\n",
       "  <tbody>\n",
       "    <tr>\n",
       "      <th>count</th>\n",
       "      <td>985</td>\n",
       "      <td>985</td>\n",
       "      <td>985</td>\n",
       "      <td>985</td>\n",
       "      <td>985</td>\n",
       "      <td>985</td>\n",
       "      <td>985</td>\n",
       "      <td>985</td>\n",
       "      <td>985</td>\n",
       "    </tr>\n",
       "    <tr>\n",
       "      <th>unique</th>\n",
       "      <td>2</td>\n",
       "      <td>5</td>\n",
       "      <td>206</td>\n",
       "      <td>938</td>\n",
       "      <td>985</td>\n",
       "      <td>276</td>\n",
       "      <td>985</td>\n",
       "      <td>982</td>\n",
       "      <td>3</td>\n",
       "    </tr>\n",
       "    <tr>\n",
       "      <th>top</th>\n",
       "      <td>DEBIT</td>\n",
       "      <td>UPI</td>\n",
       "      <td>10.0</td>\n",
       "      <td>1525.80</td>\n",
       "      <td>2023-06-27T09:40:19+05:30</td>\n",
       "      <td>2023-08-25</td>\n",
       "      <td>S39488701</td>\n",
       "      <td>PRCR/MS NEHA FILLING STATIO/FARRUKHAB</td>\n",
       "      <td>NA</td>\n",
       "    </tr>\n",
       "    <tr>\n",
       "      <th>freq</th>\n",
       "      <td>695</td>\n",
       "      <td>789</td>\n",
       "      <td>69</td>\n",
       "      <td>3</td>\n",
       "      <td>1</td>\n",
       "      <td>12</td>\n",
       "      <td>1</td>\n",
       "      <td>4</td>\n",
       "      <td>826</td>\n",
       "    </tr>\n",
       "  </tbody>\n",
       "</table>\n",
       "</div>"
      ],
      "text/plain": [
       "         type mode amount currentBalance       transactionTimestamp  \\\n",
       "count     985  985    985            985                        985   \n",
       "unique      2    5    206            938                        985   \n",
       "top     DEBIT  UPI   10.0        1525.80  2023-06-27T09:40:19+05:30   \n",
       "freq      695  789     69              3                          1   \n",
       "\n",
       "         valueDate      txnId                              narration reference  \n",
       "count          985        985                                    985       985  \n",
       "unique         276        985                                    982         3  \n",
       "top     2023-08-25  S39488701  PRCR/MS NEHA FILLING STATIO/FARRUKHAB        NA  \n",
       "freq            12          1                                      4       826  "
      ]
     },
     "execution_count": 87,
     "metadata": {},
     "output_type": "execute_result"
    }
   ],
   "source": [
    "transactions_df.describe()"
   ]
  },
  {
   "cell_type": "markdown",
   "id": "c4ced4dc",
   "metadata": {},
   "source": [
    "Q2. What is the distribution of transaction amounts (e.g., small vs. large transactions)?(define small and large transactions by yourself) "
   ]
  },
  {
   "cell_type": "markdown",
   "id": "33117cb2",
   "metadata": {},
   "source": [
    "Box - Plot for amount to identify the range of values in the column"
   ]
  },
  {
   "cell_type": "code",
   "execution_count": 66,
   "id": "f525136d",
   "metadata": {},
   "outputs": [
    {
     "data": {
      "image/png": "[encoded data removed]",
      "text/plain": [
       "<Figure size 1000x600 with 1 Axes>"
      ]
     },
     "metadata": {},
     "output_type": "display_data"
    }
   ],
   "source": [
    "transactions_df['amount'] = pd.to_numeric(transactions_df['amount'], errors='coerce')\n",
    "\n",
    "plt.figure(figsize=(10, 6))\n",
    "plt.boxplot(transactions_df['amount'].dropna(), vert=False, patch_artist=True, \n",
    "            boxprops=dict(facecolor='skyblue', color='black'),\n",
    "            medianprops=dict(color='red'),\n",
    "            whiskerprops=dict(color='black'),\n",
    "            capprops=dict(color='black'),\n",
    "            flierprops=dict(marker='o', color='red', alpha=0.5))\n",
    "\n",
    "plt.title('Box Plot of Transaction Amounts')\n",
    "plt.xlabel('Amount')\n",
    "plt.show()"
   ]
  },
  {
   "cell_type": "code",
   "execution_count": 88,
   "id": "1cd9c286",
   "metadata": {},
   "outputs": [
    {
     "data": {
      "text/plain": [
       "Text(0, 0.5, 'Frequency')"
      ]
     },
     "execution_count": 88,
     "metadata": {},
     "output_type": "execute_result"
    },
    {
     "data": {
      "image/png": "[encoded data removed]",
      "text/plain": [
       "<Figure size 640x480 with 1 Axes>"
      ]
     },
     "metadata": {},
     "output_type": "display_data"
    }
   ],
   "source": [
    "# Histogram\n",
    "plt.hist(transactions_df['amount'].dropna(), bins=30, color='skyblue',edgecolor='black')\n",
    "plt.title('Histogram of Transaction Amounts')\n",
    "plt.xlabel('Amount')\n",
    "plt.ylabel('Frequency')"
   ]
  },
  {
   "cell_type": "code",
   "execution_count": 129,
   "id": "2c19a1da",
   "metadata": {},
   "outputs": [
    {
     "name": "stdout",
     "output_type": "stream",
     "text": [
      "count      985.000000\n",
      "mean       855.492802\n",
      "std       3007.515100\n",
      "min          1.000000\n",
      "25%         40.000000\n",
      "50%        160.000000\n",
      "75%        500.000000\n",
      "max      45000.000000\n",
      "Name: amount, dtype: float64\n"
     ]
    }
   ],
   "source": [
    "#Descriptive statistics to define small and large transactions\n",
    "\n",
    "transactions_df['amount']= transactions_df['amount'].astype(str).astype(float)\n",
    "desc_stats = transactions_df['amount'].describe()\n",
    "print(desc_stats)"
   ]
  },
  {
   "cell_type": "markdown",
   "id": "90b03fe7",
   "metadata": {},
   "source": [
    "Here we can say that the small transaction can be defined as amounts below the 25th percentile and large as above the 75th percentile."
   ]
  },
  {
   "cell_type": "code",
   "execution_count": 130,
   "id": "56ce2bb6",
   "metadata": {},
   "outputs": [
    {
     "name": "stdout",
     "output_type": "stream",
     "text": [
      "Number of small transactions (<= 40.0): 254\n",
      "Number of large transactions (>= 500.0): 298\n"
     ]
    }
   ],
   "source": [
    "# Defining small and large transactions\n",
    "\n",
    "small_transactions = transactions_df[transactions_df['amount'] <= desc_stats['25%']]\n",
    "large_transactions = transactions_df[transactions_df['amount'] >= desc_stats['75%']]\n",
    "\n",
    "print(f\"Number of small transactions (<= {desc_stats['25%']}): {small_transactions.shape[0]}\")\n",
    "print(f\"Number of large transactions (>= {desc_stats['75%']}): {large_transactions.shape[0]}\")"
   ]
  },
  {
   "cell_type": "markdown",
   "id": "3d46cd1b",
   "metadata": {},
   "source": [
    "Ans2. Small transactions are the one's which had transaction amount less than Rs.40 and large transaction are those which had transactiona amount greater than Rs. 500."
   ]
  },
  {
   "cell_type": "code",
   "execution_count": 91,
   "id": "202531c3",
   "metadata": {},
   "outputs": [
    {
     "data": {
      "text/plain": [
       "array(['CARD', 'OTHERS', 'ATM', 'UPI', 'CASH'], dtype=object)"
      ]
     },
     "execution_count": 91,
     "metadata": {},
     "output_type": "execute_result"
    }
   ],
   "source": [
    "transactions_df['mode'].unique()"
   ]
  },
  {
   "cell_type": "code",
   "execution_count": 92,
   "id": "db74e39d",
   "metadata": {},
   "outputs": [
    {
     "data": {
      "text/plain": [
       "array(['DEBIT', 'CREDIT'], dtype=object)"
      ]
     },
     "execution_count": 92,
     "metadata": {},
     "output_type": "execute_result"
    }
   ],
   "source": [
    "transactions_df['type'].unique()"
   ]
  },
  {
   "cell_type": "markdown",
   "id": "318151d8",
   "metadata": {},
   "source": [
    "Q3. Analyze the frequency of different transaction types (debit vs. credit)."
   ]
  },
  {
   "cell_type": "code",
   "execution_count": 93,
   "id": "9858d184",
   "metadata": {},
   "outputs": [
    {
     "name": "stdout",
     "output_type": "stream",
     "text": [
      "DEBIT     695\n",
      "CREDIT    290\n",
      "Name: type, dtype: int64\n"
     ]
    },
    {
     "data": {
      "image/png": "[encoded data removed]",
      "text/plain": [
       "<Figure size 600x600 with 1 Axes>"
      ]
     },
     "metadata": {},
     "output_type": "display_data"
    }
   ],
   "source": [
    "transaction_type_counts = transactions_df['type'].value_counts()\n",
    "\n",
    "# Display the counts\n",
    "print(transaction_type_counts)\n",
    "\n",
    "# Create a bar plot for transaction types\n",
    "plt.figure(figsize=(6, 6))\n",
    "transaction_type_counts.plot(kind='bar',width = 0.4,color=['red', 'green'])\n",
    "plt.title('Frequency of Transaction Types')\n",
    "plt.xlabel('Transaction Type')\n",
    "plt.ylabel('Frequency')\n",
    "plt.xticks(rotation=0)\n",
    "plt.show()"
   ]
  },
  {
   "cell_type": "markdown",
   "id": "20f0ad47",
   "metadata": {},
   "source": [
    "Ans3. No of transactions debited to the account - 695. No of transactions credited to the account - 290"
   ]
  },
  {
   "cell_type": "markdown",
   "id": "c652bf71",
   "metadata": {},
   "source": [
    "#### 2. Balance Analysis: "
   ]
  },
  {
   "cell_type": "markdown",
   "id": "5b98118c",
   "metadata": {},
   "source": [
    "Q1. What is the trend of the account balance over time?"
   ]
  },
  {
   "cell_type": "code",
   "execution_count": 73,
   "id": "e2806e30",
   "metadata": {},
   "outputs": [
    {
     "data": {
      "text/plain": [
       "0      2023-06-27\n",
       "1      2023-06-28\n",
       "2      2023-07-26\n",
       "3      2023-08-06\n",
       "4      2023-08-07\n",
       "          ...    \n",
       "980    2024-05-29\n",
       "981    2024-05-30\n",
       "982    2024-05-30\n",
       "983    2024-05-30\n",
       "984    2024-05-30\n",
       "Name: date, Length: 985, dtype: object"
      ]
     },
     "execution_count": 73,
     "metadata": {},
     "output_type": "execute_result"
    }
   ],
   "source": [
    "#transactions_df['date'] = pd.to_datetime(transactions_df['transactionTimestamp']).dt.date\n",
    "#transactions_df['date']"
   ]
  },
  {
   "cell_type": "code",
   "execution_count": 134,
   "id": "36aa180e",
   "metadata": {},
   "outputs": [
    {
     "data": {
      "image/png": "[encoded data removed]",
      "text/plain": [
       "<Figure size 1200x600 with 1 Axes>"
      ]
     },
     "metadata": {},
     "output_type": "display_data"
    }
   ],
   "source": [
    "transactions_df['transactionTimestamp'] = pd.to_datetime(transactions_df['transactionTimestamp'])\n",
    "transactions_df['currentBalance'] = transactions_df['currentBalance'].astype(str).astype(float)\n",
    "# Setting 'transactionTimestamp' as the index\n",
    "transactions_df.set_index('transactionTimestamp', inplace=True)\n",
    "\n",
    "currentBalance = transactions_df['currentBalance'].resample('M').max()\n",
    "\n",
    "plt.figure(figsize=(12, 6))\n",
    "plt.plot(currentBalance.index, currentBalance.values,  marker='o', linestyle='-', color='b')\n",
    "plt.title('Trend of Account Balance Over Time')\n",
    "plt.xlabel('Date')\n",
    "plt.ylabel('Account Balance (INR)')\n",
    "plt.grid(True)\n",
    "plt.show()\n"
   ]
  },
  {
   "cell_type": "code",
   "execution_count": null,
   "id": "12c9fbbc",
   "metadata": {},
   "outputs": [],
   "source": []
  },
  {
   "cell_type": "markdown",
   "id": "8b2f9cd7",
   "metadata": {},
   "source": [
    "#### Spending Patterns:"
   ]
  },
  {
   "cell_type": "markdown",
   "id": "e58accc4",
   "metadata": {},
   "source": [
    "Q1. What are the main categories of expenses (e.g., fuel, Ecommerce, food, shopping, ATM withdrawals, UPI transactions)?"
   ]
  },
  {
   "cell_type": "markdown",
   "id": "5aae3fd9",
   "metadata": {},
   "source": [
    "First we will make a dataframe for only debit transactions which represents our expenses."
   ]
  },
  {
   "cell_type": "code",
   "execution_count": 106,
   "id": "bd54b930",
   "metadata": {},
   "outputs": [],
   "source": [
    "# Dataframe for only Debit transactions\n",
    "debit_transactions_df = transactions_df[transactions_df['type']=='DEBIT']"
   ]
  },
  {
   "cell_type": "markdown",
   "id": "24eb40bf",
   "metadata": {},
   "source": [
    "Now we can see the mode of transactions done for the expenses using groupby function"
   ]
  },
  {
   "cell_type": "code",
   "execution_count": 107,
   "id": "953dcb59",
   "metadata": {},
   "outputs": [
    {
     "data": {
      "text/plain": [
       "array(['CARD', 'ATM', 'UPI'], dtype=object)"
      ]
     },
     "execution_count": 107,
     "metadata": {},
     "output_type": "execute_result"
    }
   ],
   "source": [
    "debit_transactions_df['mode'].unique()"
   ]
  },
  {
   "cell_type": "markdown",
   "id": "357b4785",
   "metadata": {},
   "source": [
    "Main category of expenses were found to be UPI, ATM, and CARD transactions."
   ]
  },
  {
   "cell_type": "markdown",
   "id": "4fe33ef2",
   "metadata": {},
   "source": [
    "Q2. Analyze the frequency and amount of spending in each category."
   ]
  },
  {
   "cell_type": "code",
   "execution_count": 108,
   "id": "d2ebede8",
   "metadata": {},
   "outputs": [
    {
     "name": "stdout",
     "output_type": "stream",
     "text": [
      "   mode  count\n",
      "0   ATM      3\n",
      "1  CARD      4\n",
      "2   UPI    688\n"
     ]
    }
   ],
   "source": [
    "debit_transaction_counts = debit_transactions_df.groupby(['mode']).size().reset_index(name='count')\n",
    "print(debit_transaction_counts)"
   ]
  },
  {
   "cell_type": "markdown",
   "id": "24602588",
   "metadata": {},
   "source": [
    "Frequency of spending in each category: ATM - 3, CARD - 4, UPI - 688 "
   ]
  },
  {
   "cell_type": "code",
   "execution_count": 109,
   "id": "faaaef6e",
   "metadata": {},
   "outputs": [
    {
     "name": "stdout",
     "output_type": "stream",
     "text": [
      "   mode     spent\n",
      "0   ATM   13500.0\n",
      "1  CARD     830.0\n",
      "2   UPI  407759.9\n"
     ]
    }
   ],
   "source": [
    "debit_transaction_spending = debit_transactions_df.groupby('mode')['amount'].sum().reset_index(name='spent')\n",
    "print(debit_transaction_spending)"
   ]
  },
  {
   "cell_type": "markdown",
   "id": "38a6d339",
   "metadata": {},
   "source": [
    "Amount of spending in each category: ATM - Rs. 13,500, CARD - Rs. 830, UPI - Rs. 4,07,759.9"
   ]
  },
  {
   "cell_type": "markdown",
   "id": "8288c1ff",
   "metadata": {},
   "source": [
    "#### Income Analysis: "
   ]
  },
  {
   "cell_type": "markdown",
   "id": "2e26e0b0",
   "metadata": {},
   "source": [
    "Q1. What are the main sources of income (e.g., salary, UPI credits)?"
   ]
  },
  {
   "cell_type": "markdown",
   "id": "8e087d30",
   "metadata": {},
   "source": [
    "First making a dataframe for CREDIT transactions to check the sources of incomes."
   ]
  },
  {
   "cell_type": "code",
   "execution_count": 110,
   "id": "14931450",
   "metadata": {},
   "outputs": [],
   "source": [
    "# Dataframe for CREDIT transactions\n",
    "credit_transactions_df = transactions_df[transactions_df['type']=='CREDIT']"
   ]
  },
  {
   "cell_type": "markdown",
   "id": "e29d7b2b",
   "metadata": {},
   "source": [
    "Now let's check the different mode of transactions for type credit"
   ]
  },
  {
   "cell_type": "code",
   "execution_count": 111,
   "id": "8ed3bbf5",
   "metadata": {},
   "outputs": [
    {
     "data": {
      "text/plain": [
       "array(['OTHERS', 'UPI', 'CASH'], dtype=object)"
      ]
     },
     "execution_count": 111,
     "metadata": {},
     "output_type": "execute_result"
    }
   ],
   "source": [
    "credit_transactions_df['mode'].unique()"
   ]
  },
  {
   "cell_type": "markdown",
   "id": "ac33772a",
   "metadata": {},
   "source": [
    "Sources of Incomes are UPI transactions,cash and others"
   ]
  },
  {
   "cell_type": "code",
   "execution_count": 112,
   "id": "9414ea7a",
   "metadata": {},
   "outputs": [
    {
     "name": "stdout",
     "output_type": "stream",
     "text": [
      "     mode     income\n",
      "0    CASH   45000.00\n",
      "1  OTHERS  196237.51\n",
      "2     UPI  179333.00\n"
     ]
    }
   ],
   "source": [
    "credit_transaction_cate = credit_transactions_df.groupby('mode')['amount'].sum().reset_index(name='income')\n",
    "print(credit_transaction_cate)"
   ]
  },
  {
   "cell_type": "markdown",
   "id": "cbffd14c",
   "metadata": {},
   "source": [
    "Main sources of income seems to be salary and UPI crdeits."
   ]
  },
  {
   "cell_type": "code",
   "execution_count": null,
   "id": "b99dab4b",
   "metadata": {},
   "outputs": [],
   "source": []
  },
  {
   "cell_type": "markdown",
   "id": "30379dfe",
   "metadata": {},
   "source": [
    "Q2. Identify any patterns in the timing and amount of income received. "
   ]
  },
  {
   "cell_type": "code",
   "execution_count": 113,
   "id": "c11b03fd",
   "metadata": {},
   "outputs": [
    {
     "name": "stderr",
     "output_type": "stream",
     "text": [
      "C:\\Users\\SHRIMANI TUNDURWAR\\AppData\\Local\\Temp\\ipykernel_13952\\1235843716.py:1: SettingWithCopyWarning: \n",
      "A value is trying to be set on a copy of a slice from a DataFrame.\n",
      "Try using .loc[row_indexer,col_indexer] = value instead\n",
      "\n",
      "See the caveats in the documentation: https://pandas.pydata.org/pandas-docs/stable/user_guide/indexing.html#returning-a-view-versus-a-copy\n",
      "  credit_transactions_df['transactionTimestamp'] = pd.to_datetime(credit_transactions_df['transactionTimestamp'])\n"
     ]
    },
    {
     "data": {
      "image/png": "[encoded data removed]",
      "text/plain": [
       "<Figure size 1000x600 with 1 Axes>"
      ]
     },
     "metadata": {},
     "output_type": "display_data"
    }
   ],
   "source": [
    "credit_transactions_df['transactionTimestamp'] = pd.to_datetime(credit_transactions_df['transactionTimestamp'])\n",
    "\n",
    "# Setting 'transactionTimestamp' as the index\n",
    "credit_transactions_df.set_index('transactionTimestamp', inplace=True)\n",
    "\n",
    "# Converting the timestamp to month\n",
    "monthly_credit = credit_transactions_df['amount'].resample('M').sum()\n",
    "\n",
    "# Plotting the line graph\n",
    "plt.figure(figsize=(10, 6))\n",
    "plt.plot(monthly_credit.index, monthly_credit.values, marker='o', linestyle='-')\n",
    "\n",
    "plt.xlabel('Month')\n",
    "plt.ylabel('Amount Credited')\n",
    "plt.title('Total Amount Credited per Month')\n",
    "plt.grid(True)\n",
    "plt.xticks(rotation=45)\n",
    "plt.show()"
   ]
  },
  {
   "cell_type": "markdown",
   "id": "2045015e",
   "metadata": {},
   "source": [
    "It seems that the income generated in the month of december was the highest."
   ]
  },
  {
   "cell_type": "markdown",
   "id": "47690ca1",
   "metadata": {},
   "source": [
    "#### Alert Generation"
   ]
  },
  {
   "cell_type": "markdown",
   "id": "5db8aa5c",
   "metadata": {},
   "source": [
    "Identify any unusual or suspicious transactions."
   ]
  },
  {
   "cell_type": "code",
   "execution_count": 144,
   "id": "dd15d022",
   "metadata": {},
   "outputs": [
    {
     "name": "stderr",
     "output_type": "stream",
     "text": [
      "C:\\Users\\SHRIMANI TUNDURWAR\\AppData\\Local\\Temp\\ipykernel_13952\\1203408673.py:1: SettingWithCopyWarning: \n",
      "A value is trying to be set on a copy of a slice from a DataFrame.\n",
      "Try using .loc[row_indexer,col_indexer] = value instead\n",
      "\n",
      "See the caveats in the documentation: https://pandas.pydata.org/pandas-docs/stable/user_guide/indexing.html#returning-a-view-versus-a-copy\n",
      "  debit_transactions_df['transactionTimestamp'] = pd.to_datetime(debit_transactions_df['transactionTimestamp'])\n"
     ]
    },
    {
     "data": {
      "image/png": "[encoded data removed]",
      "text/plain": [
       "<Figure size 1000x600 with 1 Axes>"
      ]
     },
     "metadata": {},
     "output_type": "display_data"
    }
   ],
   "source": [
    "debit_transactions_df['transactionTimestamp'] = pd.to_datetime(debit_transactions_df['transactionTimestamp'])\n",
    "\n",
    "# Setting 'transactionTimestamp' as the index\n",
    "debit_transactions_df.set_index('transactionTimestamp', inplace=True)\n",
    "\n",
    "# Converting the timestamp to month\n",
    "monthly_debit = debit_transactions_df['amount'].resample('M').sum()\n",
    "\n",
    "# Plotting the line graph\n",
    "plt.figure(figsize=(10, 6))\n",
    "plt.plot(monthly_credit.index, monthly_credit.values, marker='o', linestyle='-')\n",
    "\n",
    "plt.xlabel('Month')\n",
    "plt.ylabel('Amount Debited')\n",
    "plt.title('Total Debited Credited per Month')\n",
    "plt.grid(True)\n",
    "plt.xticks(rotation=45)\n",
    "plt.show()"
   ]
  },
  {
   "cell_type": "code",
   "execution_count": 150,
   "id": "a0516e78",
   "metadata": {},
   "outputs": [
    {
     "name": "stdout",
     "output_type": "stream",
     "text": [
      "Unusual or Suspicious Transactions:\n",
      "                             type    mode   amount  currentBalance  \\\n",
      "transactionTimestamp                                                 \n",
      "2023-11-14 18:31:11+05:30  CREDIT     UPI  37999.0        43892.80   \n",
      "2023-11-14 18:49:41+05:30   DEBIT     UPI  16500.0        27391.80   \n",
      "2023-11-16 15:51:14+05:30  CREDIT    CASH  45000.0        58180.80   \n",
      "2023-11-17 16:34:54+05:30   DEBIT     UPI  21000.0        35400.80   \n",
      "2023-11-29 16:15:33+05:30   DEBIT     UPI  19000.0        16625.80   \n",
      "2023-11-29 17:09:47+05:30   DEBIT     UPI  12700.0         3925.80   \n",
      "2023-12-05 15:50:06+05:30   DEBIT     UPI  13000.0          865.80   \n",
      "2024-02-24 18:55:15+05:30  CREDIT     UPI  20000.0        23483.91   \n",
      "2024-02-25 11:08:34+05:30   DEBIT     UPI  20000.0         3683.91   \n",
      "2024-02-25 20:08:58+05:30  CREDIT     UPI  20000.0        23664.91   \n",
      "2024-03-20 18:56:48+05:30   DEBIT     UPI  12000.0         1119.11   \n",
      "2024-04-12 20:47:44+05:30  CREDIT     UPI  30000.0        31701.21   \n",
      "2024-04-12 20:50:06+05:30   DEBIT     UPI  30000.0         1701.21   \n",
      "2024-05-13 06:54:41+05:30  CREDIT  OTHERS  11530.0        13704.31   \n",
      "\n",
      "                            valueDate      txnId  \\\n",
      "transactionTimestamp                               \n",
      "2023-11-14 18:31:11+05:30  2023-11-14  S65593249   \n",
      "2023-11-14 18:49:41+05:30  2023-11-14  S66498670   \n",
      "2023-11-16 15:51:14+05:30  2023-11-16   00707977   \n",
      "2023-11-17 16:34:54+05:30  2023-11-17  S82212459   \n",
      "2023-11-29 16:15:33+05:30  2023-11-29  S50294642   \n",
      "2023-11-29 17:09:47+05:30  2023-11-29  S52850056   \n",
      "2023-12-05 15:50:06+05:30  2023-12-05   S8245037   \n",
      "2024-02-24 18:55:15+05:30  2024-02-24  S58360773   \n",
      "2024-02-25 11:08:34+05:30  2024-02-25  S77431539   \n",
      "2024-02-25 20:08:58+05:30  2024-02-25   S3167582   \n",
      "2024-03-20 18:56:48+05:30  2024-03-20  S75496843   \n",
      "2024-04-12 20:47:44+05:30  2024-04-12  S72310155   \n",
      "2024-04-12 20:50:06+05:30  2024-04-12  S72445629   \n",
      "2024-05-13 06:54:41+05:30  2024-05-13  S48586185   \n",
      "\n",
      "                                                                   narration  \\\n",
      "transactionTimestamp                                                           \n",
      "2023-11-14 18:31:11+05:30     UPI/331812106847/183112/UPI/311999sshuklaaxl/P   \n",
      "2023-11-14 18:49:41+05:30     UPI/331814821452/184941/UPI/7007674186paytm/UP   \n",
      "2023-11-16 15:51:14+05:30                                            BY CASH   \n",
      "2023-11-17 16:34:54+05:30     UPI/332126038252/163454/UPI/msjsrfashioneazypa   \n",
      "2023-11-29 16:15:33+05:30      UPI/333335900423/161532/UPI/mrking25icici/UPI   \n",
      "2023-11-29 17:09:47+05:30      UPI/369921004440/170947/UPI/9310460780ibl/UPI   \n",
      "2023-12-05 15:50:06+05:30     UPI/333950785257/155006/UPI/bharatpe9006616689   \n",
      "2024-02-24 18:55:15+05:30     UPI/442192582411/185516/UPI/8795417446-2ybl/Pa   \n",
      "2024-02-25 11:08:34+05:30      UPI/405633427538/110833/UPI/8318914152axl/UPI   \n",
      "2024-02-25 20:08:58+05:30     UPI/442272156503/200859/UPI/8318914152ybl/Paym   \n",
      "2024-03-20 18:56:48+05:30      UPI/444654608986/185648/UPI/8303922846ibl/UPI   \n",
      "2024-04-12 20:47:44+05:30     UPI/410362944187/204745/UPI/8960920752ibl/Paym   \n",
      "2024-04-12 20:50:06+05:30     UPI/446935401186/205005/UPI/shivampandit199999   \n",
      "2024-05-13 06:54:41+05:30  NEFT-AXNPN13487029272-PHONEPE PRIVATE LIMITED-...   \n",
      "\n",
      "                                 reference  \n",
      "transactionTimestamp                        \n",
      "2023-11-14 18:31:11+05:30               NA  \n",
      "2023-11-14 18:49:41+05:30               NA  \n",
      "2023-11-16 15:51:14+05:30               NA  \n",
      "2023-11-17 16:34:54+05:30               NA  \n",
      "2023-11-29 16:15:33+05:30               NA  \n",
      "2023-11-29 17:09:47+05:30               NA  \n",
      "2023-12-05 15:50:06+05:30               NA  \n",
      "2024-02-24 18:55:15+05:30               NA  \n",
      "2024-02-25 11:08:34+05:30               NA  \n",
      "2024-02-25 20:08:58+05:30               NA  \n",
      "2024-03-20 18:56:48+05:30               NA  \n",
      "2024-04-12 20:47:44+05:30               NA  \n",
      "2024-04-12 20:50:06+05:30               NA  \n",
      "2024-05-13 06:54:41+05:30  922020004688715  \n"
     ]
    }
   ],
   "source": [
    "transactions_df['amount'] =  transactions_df['amount'].astype(str).astype(float)\n",
    "\n",
    "\n",
    "# Generate alerts for unusual or suspicious transactions using IQR method\n",
    "def detect_outliers_iqr(df):\n",
    "    threshold = 10000\n",
    "    return df[(df['amount'] > threshold)]\n",
    "\n",
    "outliers = detect_outliers_iqr(transactions_df)\n",
    "print(\"Unusual or Suspicious Transactions:\")\n",
    "print(outliers)"
   ]
  },
  {
   "cell_type": "markdown",
   "id": "ce1d26ca",
   "metadata": {},
   "source": [
    "Here we have generted a threshold of 10000 INR above which any transaction amount will be considered as unsual or suspicious transactions."
   ]
  },
  {
   "cell_type": "code",
   "execution_count": 154,
   "id": "7c21e3e6",
   "metadata": {},
   "outputs": [
    {
     "name": "stdout",
     "output_type": "stream",
     "text": [
      "Low Balance Alerts:\n",
      "                             type    mode  amount  currentBalance   valueDate  \\\n",
      "transactionTimestamp                                                            \n",
      "2023-06-27 09:40:19+05:30   DEBIT    CARD   100.0          2180.8  2023-06-27   \n",
      "2023-06-28 09:51:57+05:30   DEBIT    CARD   170.0          2010.8  2023-06-28   \n",
      "2023-07-26 10:04:00+05:30   DEBIT    CARD   500.0          1510.8  2023-07-26   \n",
      "2023-08-06 11:10:38+05:30  CREDIT  OTHERS    15.0          1525.8  2023-07-31   \n",
      "\n",
      "                               txnId  \\\n",
      "transactionTimestamp                   \n",
      "2023-06-27 09:40:19+05:30  S39488701   \n",
      "2023-06-28 09:51:57+05:30  S76862822   \n",
      "2023-07-26 10:04:00+05:30  S31451661   \n",
      "2023-08-06 11:10:38+05:30  S66463256   \n",
      "\n",
      "                                                             narration  \\\n",
      "transactionTimestamp                                                     \n",
      "2023-06-27 09:40:19+05:30        PRCR/MS NEHA FILLING STATIO/FARRUKHAB   \n",
      "2023-06-28 09:51:57+05:30        PRCR/MS NEHA FILLING STATIO/FARRUKHAB   \n",
      "2023-07-26 10:04:00+05:30        PRCR/MS NEHA FILLING STATIO/FARRUKHAB   \n",
      "2023-08-06 11:10:38+05:30  51888100006461IntPd01-05-2023 to 31-07-2023   \n",
      "\n",
      "                          reference  balance  \n",
      "transactionTimestamp                          \n",
      "2023-06-27 09:40:19+05:30        NA    100.0  \n",
      "2023-06-28 09:51:57+05:30        NA    270.0  \n",
      "2023-07-26 10:04:00+05:30        NA    770.0  \n",
      "2023-08-06 11:10:38+05:30        NA    785.0  \n",
      "High Expenditure Alerts:\n",
      "transactionTimestamp\n",
      "2023-08-31 00:00:00+05:30     12679.00\n",
      "2023-09-30 00:00:00+05:30     22605.00\n",
      "2023-10-31 00:00:00+05:30     21472.00\n",
      "2023-11-30 00:00:00+05:30    115737.00\n",
      "2023-12-31 00:00:00+05:30     37953.51\n",
      "2024-01-31 00:00:00+05:30     22127.00\n",
      "2024-02-29 00:00:00+05:30     63782.00\n",
      "2024-03-31 00:00:00+05:30     25420.00\n",
      "2024-04-30 00:00:00+05:30     58660.00\n",
      "2024-05-31 00:00:00+05:30     40135.00\n",
      "Freq: M, Name: amount, dtype: float64\n"
     ]
    }
   ],
   "source": [
    "def generate_low_balance_alerts(df, threshold):\n",
    "    df['balance'] = df['amount'].cumsum()\n",
    "    return df[df['balance'] < threshold]\n",
    "\n",
    "def generate_high_expenditure_alerts(df, threshold, period='M'):\n",
    "    expenditure = df['amount'].resample(period).sum()\n",
    "    return expenditure[expenditure > threshold]\n",
    "\n",
    "low_balance_alerts = generate_low_balance_alerts(transactions_df, threshold=1000)\n",
    "print(\"Low Balance Alerts:\")\n",
    "print(low_balance_alerts)\n",
    "\n",
    "# High expenditure alerts\n",
    "high_expenditure_alerts = generate_high_expenditure_alerts(credit_transactions_df, threshold=5000)\n",
    "print(\"High Expenditure Alerts:\")\n",
    "print(high_expenditure_alerts)\n",
    "\n"
   ]
  },
  {
   "cell_type": "code",
   "execution_count": null,
   "id": "fe3c2baf",
   "metadata": {},
   "outputs": [],
   "source": []
  }
 ],
 "metadata": {
  "kernelspec": {
   "display_name": "Python 3 (ipykernel)",
   "language": "python",
   "name": "python3"
  },
  "language_info": {
   "codemirror_mode": {
    "name": "ipython",
    "version": 3
   },
   "file_extension": ".py",
   "mimetype": "text/x-python",
   "name": "python",
   "nbconvert_exporter": "python",
   "pygments_lexer": "ipython3",
   "version": "3.11.4"
  }
 },
 "nbformat": 4,
 "nbformat_minor": 5
}
