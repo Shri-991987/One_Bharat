{
 "cells": [
  {
   "cell_type": "markdown",
   "id": "3578f90d",
   "metadata": {},
   "source": [
    "## OneBharat Assignment -2"
   ]
  },
  {
   "cell_type": "code",
   "execution_count": 2,
   "id": "f59c8148",
   "metadata": {},
   "outputs": [],
   "source": [
    "import pandas as pd\n",
    "import numpy as np\n",
    "import matplotlib.pyplot as plt"
   ]
  },
  {
   "cell_type": "code",
   "execution_count": 3,
   "id": "d13b111f",
   "metadata": {},
   "outputs": [],
   "source": [
    "df = pd.read_csv('P2- OfficeSupplies Data.csv')"
   ]
  },
  {
   "cell_type": "code",
   "execution_count": 4,
   "id": "a7a375bd",
   "metadata": {},
   "outputs": [
    {
     "data": {
      "text/html": [
       "<div>\n",
       "<style scoped>\n",
       "    .dataframe tbody tr th:only-of-type {\n",
       "        vertical-align: middle;\n",
       "    }\n",
       "\n",
       "    .dataframe tbody tr th {\n",
       "        vertical-align: top;\n",
       "    }\n",
       "\n",
       "    .dataframe thead th {\n",
       "        text-align: right;\n",
       "    }\n",
       "</style>\n",
       "<table border=\"1\" class=\"dataframe\">\n",
       "  <thead>\n",
       "    <tr style=\"text-align: right;\">\n",
       "      <th></th>\n",
       "      <th>OrderDate</th>\n",
       "      <th>Region</th>\n",
       "      <th>Rep</th>\n",
       "      <th>Item</th>\n",
       "      <th>Units</th>\n",
       "      <th>Unit Price</th>\n",
       "    </tr>\n",
       "  </thead>\n",
       "  <tbody>\n",
       "    <tr>\n",
       "      <th>0</th>\n",
       "      <td>04-Jul-14</td>\n",
       "      <td>East</td>\n",
       "      <td>Richard</td>\n",
       "      <td>Pen Set</td>\n",
       "      <td>62</td>\n",
       "      <td>4.99</td>\n",
       "    </tr>\n",
       "    <tr>\n",
       "      <th>1</th>\n",
       "      <td>12-Jul-14</td>\n",
       "      <td>East</td>\n",
       "      <td>Nick</td>\n",
       "      <td>Binder</td>\n",
       "      <td>29</td>\n",
       "      <td>1.99</td>\n",
       "    </tr>\n",
       "    <tr>\n",
       "      <th>2</th>\n",
       "      <td>21-Jul-14</td>\n",
       "      <td>Central</td>\n",
       "      <td>Morgan</td>\n",
       "      <td>Pen Set</td>\n",
       "      <td>55</td>\n",
       "      <td>12.49</td>\n",
       "    </tr>\n",
       "    <tr>\n",
       "      <th>3</th>\n",
       "      <td>29-Jul-14</td>\n",
       "      <td>East</td>\n",
       "      <td>Susan</td>\n",
       "      <td>Binder</td>\n",
       "      <td>81</td>\n",
       "      <td>19.99</td>\n",
       "    </tr>\n",
       "    <tr>\n",
       "      <th>4</th>\n",
       "      <td>07-Aug-14</td>\n",
       "      <td>Central</td>\n",
       "      <td>Matthew</td>\n",
       "      <td>Pen Set</td>\n",
       "      <td>42</td>\n",
       "      <td>23.95</td>\n",
       "    </tr>\n",
       "  </tbody>\n",
       "</table>\n",
       "</div>"
      ],
      "text/plain": [
       "   OrderDate   Region      Rep     Item  Units  Unit Price\n",
       "0  04-Jul-14     East  Richard  Pen Set     62        4.99\n",
       "1  12-Jul-14     East     Nick   Binder     29        1.99\n",
       "2  21-Jul-14  Central   Morgan  Pen Set     55       12.49\n",
       "3  29-Jul-14     East    Susan   Binder     81       19.99\n",
       "4  07-Aug-14  Central  Matthew  Pen Set     42       23.95"
      ]
     },
     "execution_count": 4,
     "metadata": {},
     "output_type": "execute_result"
    }
   ],
   "source": [
    "df.head()"
   ]
  },
  {
   "cell_type": "code",
   "execution_count": 5,
   "id": "19dba3b4",
   "metadata": {},
   "outputs": [
    {
     "name": "stdout",
     "output_type": "stream",
     "text": [
      "<class 'pandas.core.frame.DataFrame'>\n",
      "RangeIndex: 43 entries, 0 to 42\n",
      "Data columns (total 6 columns):\n",
      " #   Column      Non-Null Count  Dtype  \n",
      "---  ------      --------------  -----  \n",
      " 0   OrderDate   43 non-null     object \n",
      " 1   Region      43 non-null     object \n",
      " 2   Rep         43 non-null     object \n",
      " 3   Item        43 non-null     object \n",
      " 4   Units       43 non-null     int64  \n",
      " 5   Unit Price  43 non-null     float64\n",
      "dtypes: float64(1), int64(1), object(4)\n",
      "memory usage: 2.1+ KB\n"
     ]
    }
   ],
   "source": [
    "df.info()"
   ]
  },
  {
   "cell_type": "code",
   "execution_count": 6,
   "id": "c66a264d",
   "metadata": {},
   "outputs": [
    {
     "data": {
      "text/html": [
       "<div>\n",
       "<style scoped>\n",
       "    .dataframe tbody tr th:only-of-type {\n",
       "        vertical-align: middle;\n",
       "    }\n",
       "\n",
       "    .dataframe tbody tr th {\n",
       "        vertical-align: top;\n",
       "    }\n",
       "\n",
       "    .dataframe thead th {\n",
       "        text-align: right;\n",
       "    }\n",
       "</style>\n",
       "<table border=\"1\" class=\"dataframe\">\n",
       "  <thead>\n",
       "    <tr style=\"text-align: right;\">\n",
       "      <th></th>\n",
       "      <th>Units</th>\n",
       "      <th>Unit Price</th>\n",
       "    </tr>\n",
       "  </thead>\n",
       "  <tbody>\n",
       "    <tr>\n",
       "      <th>count</th>\n",
       "      <td>43.000000</td>\n",
       "      <td>43.000000</td>\n",
       "    </tr>\n",
       "    <tr>\n",
       "      <th>mean</th>\n",
       "      <td>49.325581</td>\n",
       "      <td>20.308605</td>\n",
       "    </tr>\n",
       "    <tr>\n",
       "      <th>std</th>\n",
       "      <td>30.078248</td>\n",
       "      <td>47.345118</td>\n",
       "    </tr>\n",
       "    <tr>\n",
       "      <th>min</th>\n",
       "      <td>2.000000</td>\n",
       "      <td>1.290000</td>\n",
       "    </tr>\n",
       "    <tr>\n",
       "      <th>25%</th>\n",
       "      <td>27.500000</td>\n",
       "      <td>3.990000</td>\n",
       "    </tr>\n",
       "    <tr>\n",
       "      <th>50%</th>\n",
       "      <td>53.000000</td>\n",
       "      <td>4.990000</td>\n",
       "    </tr>\n",
       "    <tr>\n",
       "      <th>75%</th>\n",
       "      <td>74.500000</td>\n",
       "      <td>17.990000</td>\n",
       "    </tr>\n",
       "    <tr>\n",
       "      <th>max</th>\n",
       "      <td>96.000000</td>\n",
       "      <td>275.000000</td>\n",
       "    </tr>\n",
       "  </tbody>\n",
       "</table>\n",
       "</div>"
      ],
      "text/plain": [
       "           Units  Unit Price\n",
       "count  43.000000   43.000000\n",
       "mean   49.325581   20.308605\n",
       "std    30.078248   47.345118\n",
       "min     2.000000    1.290000\n",
       "25%    27.500000    3.990000\n",
       "50%    53.000000    4.990000\n",
       "75%    74.500000   17.990000\n",
       "max    96.000000  275.000000"
      ]
     },
     "execution_count": 6,
     "metadata": {},
     "output_type": "execute_result"
    }
   ],
   "source": [
    "df.describe()"
   ]
  },
  {
   "cell_type": "markdown",
   "id": "68b0bff8",
   "metadata": {},
   "source": [
    "#### Sales Analysis:"
   ]
  },
  {
   "cell_type": "markdown",
   "id": "8386a5c4",
   "metadata": {},
   "source": [
    "Q1. What are the total sales for each product category?"
   ]
  },
  {
   "cell_type": "code",
   "execution_count": 7,
   "id": "19be1d89",
   "metadata": {},
   "outputs": [
    {
     "data": {
      "text/html": [
       "<div>\n",
       "<style scoped>\n",
       "    .dataframe tbody tr th:only-of-type {\n",
       "        vertical-align: middle;\n",
       "    }\n",
       "\n",
       "    .dataframe tbody tr th {\n",
       "        vertical-align: top;\n",
       "    }\n",
       "\n",
       "    .dataframe thead th {\n",
       "        text-align: right;\n",
       "    }\n",
       "</style>\n",
       "<table border=\"1\" class=\"dataframe\">\n",
       "  <thead>\n",
       "    <tr style=\"text-align: right;\">\n",
       "      <th></th>\n",
       "      <th>OrderDate</th>\n",
       "      <th>Region</th>\n",
       "      <th>Rep</th>\n",
       "      <th>Item</th>\n",
       "      <th>Units</th>\n",
       "      <th>Unit Price</th>\n",
       "      <th>sale</th>\n",
       "    </tr>\n",
       "  </thead>\n",
       "  <tbody>\n",
       "    <tr>\n",
       "      <th>0</th>\n",
       "      <td>04-Jul-14</td>\n",
       "      <td>East</td>\n",
       "      <td>Richard</td>\n",
       "      <td>Pen Set</td>\n",
       "      <td>62</td>\n",
       "      <td>4.99</td>\n",
       "      <td>309.38</td>\n",
       "    </tr>\n",
       "    <tr>\n",
       "      <th>1</th>\n",
       "      <td>12-Jul-14</td>\n",
       "      <td>East</td>\n",
       "      <td>Nick</td>\n",
       "      <td>Binder</td>\n",
       "      <td>29</td>\n",
       "      <td>1.99</td>\n",
       "      <td>57.71</td>\n",
       "    </tr>\n",
       "    <tr>\n",
       "      <th>2</th>\n",
       "      <td>21-Jul-14</td>\n",
       "      <td>Central</td>\n",
       "      <td>Morgan</td>\n",
       "      <td>Pen Set</td>\n",
       "      <td>55</td>\n",
       "      <td>12.49</td>\n",
       "      <td>686.95</td>\n",
       "    </tr>\n",
       "    <tr>\n",
       "      <th>3</th>\n",
       "      <td>29-Jul-14</td>\n",
       "      <td>East</td>\n",
       "      <td>Susan</td>\n",
       "      <td>Binder</td>\n",
       "      <td>81</td>\n",
       "      <td>19.99</td>\n",
       "      <td>1619.19</td>\n",
       "    </tr>\n",
       "    <tr>\n",
       "      <th>4</th>\n",
       "      <td>07-Aug-14</td>\n",
       "      <td>Central</td>\n",
       "      <td>Matthew</td>\n",
       "      <td>Pen Set</td>\n",
       "      <td>42</td>\n",
       "      <td>23.95</td>\n",
       "      <td>1005.90</td>\n",
       "    </tr>\n",
       "    <tr>\n",
       "      <th>5</th>\n",
       "      <td>15-Aug-14</td>\n",
       "      <td>East</td>\n",
       "      <td>Richard</td>\n",
       "      <td>Pencil</td>\n",
       "      <td>35</td>\n",
       "      <td>4.99</td>\n",
       "      <td>174.65</td>\n",
       "    </tr>\n",
       "    <tr>\n",
       "      <th>6</th>\n",
       "      <td>24-Aug-14</td>\n",
       "      <td>West</td>\n",
       "      <td>James</td>\n",
       "      <td>Desk</td>\n",
       "      <td>3</td>\n",
       "      <td>275.00</td>\n",
       "      <td>825.00</td>\n",
       "    </tr>\n",
       "    <tr>\n",
       "      <th>7</th>\n",
       "      <td>01-Sep-14</td>\n",
       "      <td>Central</td>\n",
       "      <td>Smith</td>\n",
       "      <td>Desk</td>\n",
       "      <td>2</td>\n",
       "      <td>125.00</td>\n",
       "      <td>250.00</td>\n",
       "    </tr>\n",
       "    <tr>\n",
       "      <th>8</th>\n",
       "      <td>10-Sep-14</td>\n",
       "      <td>Central</td>\n",
       "      <td>Bill</td>\n",
       "      <td>Pencil</td>\n",
       "      <td>7</td>\n",
       "      <td>1.29</td>\n",
       "      <td>9.03</td>\n",
       "    </tr>\n",
       "    <tr>\n",
       "      <th>9</th>\n",
       "      <td>18-Sep-14</td>\n",
       "      <td>East</td>\n",
       "      <td>Richard</td>\n",
       "      <td>Pen Set</td>\n",
       "      <td>16</td>\n",
       "      <td>15.99</td>\n",
       "      <td>255.84</td>\n",
       "    </tr>\n",
       "    <tr>\n",
       "      <th>10</th>\n",
       "      <td>27-Sep-14</td>\n",
       "      <td>West</td>\n",
       "      <td>James</td>\n",
       "      <td>Pen</td>\n",
       "      <td>76</td>\n",
       "      <td>1.99</td>\n",
       "      <td>151.24</td>\n",
       "    </tr>\n",
       "    <tr>\n",
       "      <th>11</th>\n",
       "      <td>05-Oct-14</td>\n",
       "      <td>Central</td>\n",
       "      <td>Morgan</td>\n",
       "      <td>Binder</td>\n",
       "      <td>28</td>\n",
       "      <td>8.99</td>\n",
       "      <td>251.72</td>\n",
       "    </tr>\n",
       "    <tr>\n",
       "      <th>12</th>\n",
       "      <td>14-Oct-14</td>\n",
       "      <td>West</td>\n",
       "      <td>Thomas</td>\n",
       "      <td>Binder</td>\n",
       "      <td>57</td>\n",
       "      <td>19.99</td>\n",
       "      <td>1139.43</td>\n",
       "    </tr>\n",
       "    <tr>\n",
       "      <th>13</th>\n",
       "      <td>22-Oct-14</td>\n",
       "      <td>East</td>\n",
       "      <td>Richard</td>\n",
       "      <td>Pen</td>\n",
       "      <td>64</td>\n",
       "      <td>8.99</td>\n",
       "      <td>575.36</td>\n",
       "    </tr>\n",
       "    <tr>\n",
       "      <th>14</th>\n",
       "      <td>31-Oct-14</td>\n",
       "      <td>Central</td>\n",
       "      <td>Rachel</td>\n",
       "      <td>Pencil</td>\n",
       "      <td>14</td>\n",
       "      <td>1.29</td>\n",
       "      <td>18.06</td>\n",
       "    </tr>\n",
       "    <tr>\n",
       "      <th>15</th>\n",
       "      <td>08-Nov-14</td>\n",
       "      <td>East</td>\n",
       "      <td>Susan</td>\n",
       "      <td>Pen</td>\n",
       "      <td>15</td>\n",
       "      <td>19.99</td>\n",
       "      <td>299.85</td>\n",
       "    </tr>\n",
       "    <tr>\n",
       "      <th>16</th>\n",
       "      <td>17-Nov-14</td>\n",
       "      <td>Central</td>\n",
       "      <td>Alex</td>\n",
       "      <td>Binder</td>\n",
       "      <td>11</td>\n",
       "      <td>4.99</td>\n",
       "      <td>54.89</td>\n",
       "    </tr>\n",
       "    <tr>\n",
       "      <th>17</th>\n",
       "      <td>25-Nov-14</td>\n",
       "      <td>Central</td>\n",
       "      <td>Matthew</td>\n",
       "      <td>Pen Set</td>\n",
       "      <td>96</td>\n",
       "      <td>4.99</td>\n",
       "      <td>479.04</td>\n",
       "    </tr>\n",
       "    <tr>\n",
       "      <th>18</th>\n",
       "      <td>04-Dec-14</td>\n",
       "      <td>Central</td>\n",
       "      <td>Alex</td>\n",
       "      <td>Binder</td>\n",
       "      <td>94</td>\n",
       "      <td>19.99</td>\n",
       "      <td>1879.06</td>\n",
       "    </tr>\n",
       "    <tr>\n",
       "      <th>19</th>\n",
       "      <td>12-Dec-14</td>\n",
       "      <td>Central</td>\n",
       "      <td>Smith</td>\n",
       "      <td>Pencil</td>\n",
       "      <td>67</td>\n",
       "      <td>1.29</td>\n",
       "      <td>86.43</td>\n",
       "    </tr>\n",
       "    <tr>\n",
       "      <th>20</th>\n",
       "      <td>21-Dec-14</td>\n",
       "      <td>Central</td>\n",
       "      <td>Rachel</td>\n",
       "      <td>Binder</td>\n",
       "      <td>28</td>\n",
       "      <td>4.99</td>\n",
       "      <td>139.72</td>\n",
       "    </tr>\n",
       "    <tr>\n",
       "      <th>21</th>\n",
       "      <td>29-Dec-14</td>\n",
       "      <td>East</td>\n",
       "      <td>Susan</td>\n",
       "      <td>Pen Set</td>\n",
       "      <td>74</td>\n",
       "      <td>15.99</td>\n",
       "      <td>1183.26</td>\n",
       "    </tr>\n",
       "    <tr>\n",
       "      <th>22</th>\n",
       "      <td>06-Jan-15</td>\n",
       "      <td>East</td>\n",
       "      <td>Richard</td>\n",
       "      <td>Pencil</td>\n",
       "      <td>95</td>\n",
       "      <td>1.99</td>\n",
       "      <td>189.05</td>\n",
       "    </tr>\n",
       "    <tr>\n",
       "      <th>23</th>\n",
       "      <td>15-Jan-15</td>\n",
       "      <td>Central</td>\n",
       "      <td>Bill</td>\n",
       "      <td>Binder</td>\n",
       "      <td>46</td>\n",
       "      <td>8.99</td>\n",
       "      <td>413.54</td>\n",
       "    </tr>\n",
       "    <tr>\n",
       "      <th>24</th>\n",
       "      <td>23-Jan-15</td>\n",
       "      <td>Central</td>\n",
       "      <td>Matthew</td>\n",
       "      <td>Binder</td>\n",
       "      <td>50</td>\n",
       "      <td>19.99</td>\n",
       "      <td>999.50</td>\n",
       "    </tr>\n",
       "    <tr>\n",
       "      <th>25</th>\n",
       "      <td>01-Feb-15</td>\n",
       "      <td>Central</td>\n",
       "      <td>Smith</td>\n",
       "      <td>Binder</td>\n",
       "      <td>87</td>\n",
       "      <td>15.00</td>\n",
       "      <td>1305.00</td>\n",
       "    </tr>\n",
       "    <tr>\n",
       "      <th>26</th>\n",
       "      <td>09-Feb-15</td>\n",
       "      <td>Central</td>\n",
       "      <td>Alex</td>\n",
       "      <td>Pencil</td>\n",
       "      <td>36</td>\n",
       "      <td>4.99</td>\n",
       "      <td>179.64</td>\n",
       "    </tr>\n",
       "    <tr>\n",
       "      <th>27</th>\n",
       "      <td>18-Feb-15</td>\n",
       "      <td>East</td>\n",
       "      <td>Richard</td>\n",
       "      <td>Binder</td>\n",
       "      <td>4</td>\n",
       "      <td>4.99</td>\n",
       "      <td>19.96</td>\n",
       "    </tr>\n",
       "    <tr>\n",
       "      <th>28</th>\n",
       "      <td>26-Feb-15</td>\n",
       "      <td>Central</td>\n",
       "      <td>Bill</td>\n",
       "      <td>Pen</td>\n",
       "      <td>27</td>\n",
       "      <td>19.99</td>\n",
       "      <td>539.73</td>\n",
       "    </tr>\n",
       "    <tr>\n",
       "      <th>29</th>\n",
       "      <td>07-Mar-15</td>\n",
       "      <td>West</td>\n",
       "      <td>James</td>\n",
       "      <td>Binder</td>\n",
       "      <td>7</td>\n",
       "      <td>19.99</td>\n",
       "      <td>139.93</td>\n",
       "    </tr>\n",
       "    <tr>\n",
       "      <th>30</th>\n",
       "      <td>15-Mar-15</td>\n",
       "      <td>West</td>\n",
       "      <td>James</td>\n",
       "      <td>Pencil</td>\n",
       "      <td>56</td>\n",
       "      <td>2.99</td>\n",
       "      <td>167.44</td>\n",
       "    </tr>\n",
       "    <tr>\n",
       "      <th>31</th>\n",
       "      <td>24-Mar-15</td>\n",
       "      <td>Central</td>\n",
       "      <td>Alex</td>\n",
       "      <td>Pen Set</td>\n",
       "      <td>50</td>\n",
       "      <td>4.99</td>\n",
       "      <td>249.50</td>\n",
       "    </tr>\n",
       "    <tr>\n",
       "      <th>32</th>\n",
       "      <td>01-Apr-15</td>\n",
       "      <td>East</td>\n",
       "      <td>Richard</td>\n",
       "      <td>Binder</td>\n",
       "      <td>60</td>\n",
       "      <td>4.99</td>\n",
       "      <td>299.40</td>\n",
       "    </tr>\n",
       "    <tr>\n",
       "      <th>33</th>\n",
       "      <td>10-Apr-15</td>\n",
       "      <td>Central</td>\n",
       "      <td>Rachel</td>\n",
       "      <td>Pencil</td>\n",
       "      <td>66</td>\n",
       "      <td>1.99</td>\n",
       "      <td>131.34</td>\n",
       "    </tr>\n",
       "    <tr>\n",
       "      <th>34</th>\n",
       "      <td>18-Apr-15</td>\n",
       "      <td>Central</td>\n",
       "      <td>Rachel</td>\n",
       "      <td>Pencil</td>\n",
       "      <td>75</td>\n",
       "      <td>1.99</td>\n",
       "      <td>149.25</td>\n",
       "    </tr>\n",
       "    <tr>\n",
       "      <th>35</th>\n",
       "      <td>27-Apr-15</td>\n",
       "      <td>East</td>\n",
       "      <td>Nick</td>\n",
       "      <td>Pen</td>\n",
       "      <td>96</td>\n",
       "      <td>4.99</td>\n",
       "      <td>479.04</td>\n",
       "    </tr>\n",
       "    <tr>\n",
       "      <th>36</th>\n",
       "      <td>05-May-15</td>\n",
       "      <td>Central</td>\n",
       "      <td>Alex</td>\n",
       "      <td>Pencil</td>\n",
       "      <td>90</td>\n",
       "      <td>4.99</td>\n",
       "      <td>449.10</td>\n",
       "    </tr>\n",
       "    <tr>\n",
       "      <th>37</th>\n",
       "      <td>14-May-15</td>\n",
       "      <td>Central</td>\n",
       "      <td>Bill</td>\n",
       "      <td>Pencil</td>\n",
       "      <td>53</td>\n",
       "      <td>1.29</td>\n",
       "      <td>68.37</td>\n",
       "    </tr>\n",
       "    <tr>\n",
       "      <th>38</th>\n",
       "      <td>22-May-15</td>\n",
       "      <td>West</td>\n",
       "      <td>Thomas</td>\n",
       "      <td>Pencil</td>\n",
       "      <td>32</td>\n",
       "      <td>1.99</td>\n",
       "      <td>63.68</td>\n",
       "    </tr>\n",
       "    <tr>\n",
       "      <th>39</th>\n",
       "      <td>31-May-15</td>\n",
       "      <td>Central</td>\n",
       "      <td>Bill</td>\n",
       "      <td>Binder</td>\n",
       "      <td>80</td>\n",
       "      <td>8.99</td>\n",
       "      <td>719.20</td>\n",
       "    </tr>\n",
       "    <tr>\n",
       "      <th>40</th>\n",
       "      <td>08-Jun-15</td>\n",
       "      <td>East</td>\n",
       "      <td>Richard</td>\n",
       "      <td>Binder</td>\n",
       "      <td>60</td>\n",
       "      <td>8.99</td>\n",
       "      <td>539.40</td>\n",
       "    </tr>\n",
       "    <tr>\n",
       "      <th>41</th>\n",
       "      <td>17-Jun-15</td>\n",
       "      <td>Central</td>\n",
       "      <td>Matthew</td>\n",
       "      <td>Desk</td>\n",
       "      <td>5</td>\n",
       "      <td>125.00</td>\n",
       "      <td>625.00</td>\n",
       "    </tr>\n",
       "    <tr>\n",
       "      <th>42</th>\n",
       "      <td>25-Jun-15</td>\n",
       "      <td>Central</td>\n",
       "      <td>Morgan</td>\n",
       "      <td>Pencil</td>\n",
       "      <td>90</td>\n",
       "      <td>4.99</td>\n",
       "      <td>449.10</td>\n",
       "    </tr>\n",
       "  </tbody>\n",
       "</table>\n",
       "</div>"
      ],
      "text/plain": [
       "    OrderDate   Region      Rep     Item  Units  Unit Price     sale\n",
       "0   04-Jul-14     East  Richard  Pen Set     62        4.99   309.38\n",
       "1   12-Jul-14     East     Nick   Binder     29        1.99    57.71\n",
       "2   21-Jul-14  Central   Morgan  Pen Set     55       12.49   686.95\n",
       "3   29-Jul-14     East    Susan   Binder     81       19.99  1619.19\n",
       "4   07-Aug-14  Central  Matthew  Pen Set     42       23.95  1005.90\n",
       "5   15-Aug-14     East  Richard   Pencil     35        4.99   174.65\n",
       "6   24-Aug-14     West    James     Desk      3      275.00   825.00\n",
       "7   01-Sep-14  Central    Smith     Desk      2      125.00   250.00\n",
       "8   10-Sep-14  Central     Bill   Pencil      7        1.29     9.03\n",
       "9   18-Sep-14     East  Richard  Pen Set     16       15.99   255.84\n",
       "10  27-Sep-14     West    James      Pen     76        1.99   151.24\n",
       "11  05-Oct-14  Central   Morgan   Binder     28        8.99   251.72\n",
       "12  14-Oct-14     West   Thomas   Binder     57       19.99  1139.43\n",
       "13  22-Oct-14     East  Richard      Pen     64        8.99   575.36\n",
       "14  31-Oct-14  Central   Rachel   Pencil     14        1.29    18.06\n",
       "15  08-Nov-14     East    Susan      Pen     15       19.99   299.85\n",
       "16  17-Nov-14  Central     Alex   Binder     11        4.99    54.89\n",
       "17  25-Nov-14  Central  Matthew  Pen Set     96        4.99   479.04\n",
       "18  04-Dec-14  Central     Alex   Binder     94       19.99  1879.06\n",
       "19  12-Dec-14  Central    Smith   Pencil     67        1.29    86.43\n",
       "20  21-Dec-14  Central   Rachel   Binder     28        4.99   139.72\n",
       "21  29-Dec-14     East    Susan  Pen Set     74       15.99  1183.26\n",
       "22  06-Jan-15     East  Richard   Pencil     95        1.99   189.05\n",
       "23  15-Jan-15  Central     Bill   Binder     46        8.99   413.54\n",
       "24  23-Jan-15  Central  Matthew   Binder     50       19.99   999.50\n",
       "25  01-Feb-15  Central    Smith   Binder     87       15.00  1305.00\n",
       "26  09-Feb-15  Central     Alex   Pencil     36        4.99   179.64\n",
       "27  18-Feb-15     East  Richard   Binder      4        4.99    19.96\n",
       "28  26-Feb-15  Central     Bill      Pen     27       19.99   539.73\n",
       "29  07-Mar-15     West    James   Binder      7       19.99   139.93\n",
       "30  15-Mar-15     West    James   Pencil     56        2.99   167.44\n",
       "31  24-Mar-15  Central     Alex  Pen Set     50        4.99   249.50\n",
       "32  01-Apr-15     East  Richard   Binder     60        4.99   299.40\n",
       "33  10-Apr-15  Central   Rachel   Pencil     66        1.99   131.34\n",
       "34  18-Apr-15  Central   Rachel   Pencil     75        1.99   149.25\n",
       "35  27-Apr-15     East     Nick      Pen     96        4.99   479.04\n",
       "36  05-May-15  Central     Alex   Pencil     90        4.99   449.10\n",
       "37  14-May-15  Central     Bill   Pencil     53        1.29    68.37\n",
       "38  22-May-15     West   Thomas   Pencil     32        1.99    63.68\n",
       "39  31-May-15  Central     Bill   Binder     80        8.99   719.20\n",
       "40  08-Jun-15     East  Richard   Binder     60        8.99   539.40\n",
       "41  17-Jun-15  Central  Matthew     Desk      5      125.00   625.00\n",
       "42  25-Jun-15  Central   Morgan   Pencil     90        4.99   449.10"
      ]
     },
     "execution_count": 7,
     "metadata": {},
     "output_type": "execute_result"
    }
   ],
   "source": [
    "# Creating a column for sale per item\n",
    "df['sale'] = df['Unit Price']*df['Units']\n",
    "df"
   ]
  },
  {
   "cell_type": "markdown",
   "id": "3d000c93",
   "metadata": {},
   "source": [
    "Now we can calculate total sales for each items"
   ]
  },
  {
   "cell_type": "code",
   "execution_count": 8,
   "id": "c42dbbfa",
   "metadata": {},
   "outputs": [
    {
     "data": {
      "text/plain": [
       "array(['Pen Set', 'Binder', 'Pencil', 'Desk', 'Pen'], dtype=object)"
      ]
     },
     "execution_count": 8,
     "metadata": {},
     "output_type": "execute_result"
    }
   ],
   "source": [
    "# Unique intems in the dataset\n",
    "df['Item'].unique()"
   ]
  },
  {
   "cell_type": "code",
   "execution_count": 9,
   "id": "505aee5c",
   "metadata": {},
   "outputs": [
    {
     "name": "stdout",
     "output_type": "stream",
     "text": [
      "      Item  total_sales\n",
      "0   Binder      9577.65\n",
      "1     Desk      1700.00\n",
      "2      Pen      2045.22\n",
      "3  Pen Set      4169.87\n",
      "4   Pencil      2135.14\n"
     ]
    }
   ],
   "source": [
    "# Sales for each product category:\n",
    "total_sales = df.groupby('Item')['sale'].sum().reset_index(name='total_sales')\n",
    "print(total_sales)"
   ]
  },
  {
   "cell_type": "markdown",
   "id": "5b71d7c5",
   "metadata": {},
   "source": [
    "Q2. Which product category has the highest sales?"
   ]
  },
  {
   "cell_type": "markdown",
   "id": "f452a22b",
   "metadata": {},
   "source": [
    "Binder has the highest sales."
   ]
  },
  {
   "cell_type": "markdown",
   "id": "1111ab74",
   "metadata": {},
   "source": [
    "Q3. Identify the top 10 best-selling products."
   ]
  },
  {
   "cell_type": "markdown",
   "id": "bdc7cd34",
   "metadata": {},
   "source": [
    "There are only 5 products in the dataset naming - 'Binder', 'Desk', 'Pen', 'Pen Set', and 'Pencil'."
   ]
  },
  {
   "cell_type": "markdown",
   "id": "007502cf",
   "metadata": {},
   "source": [
    "#### Customer Analysis: "
   ]
  },
  {
   "cell_type": "markdown",
   "id": "8dd3335f",
   "metadata": {},
   "source": [
    "Q1. Who are the top 10 customers by sales?"
   ]
  },
  {
   "cell_type": "code",
   "execution_count": 10,
   "id": "4d009e9f",
   "metadata": {},
   "outputs": [
    {
     "name": "stdout",
     "output_type": "stream",
     "text": [
      "        Rep     sale\n",
      "3   Matthew  3109.44\n",
      "9     Susan  3102.30\n",
      "0      Alex  2812.19\n",
      "7   Richard  2363.04\n",
      "1      Bill  1749.87\n",
      "8     Smith  1641.43\n",
      "4    Morgan  1387.77\n",
      "2     James  1283.61\n",
      "10   Thomas  1203.11\n",
      "5      Nick   536.75\n"
     ]
    }
   ],
   "source": [
    "total_sales_by_rep = df.groupby('Rep')['sale'].sum().reset_index()\n",
    "\n",
    "# Top 10 customers:\n",
    "top_10_customers = total_sales_by_rep.sort_values(by='sale', ascending=False).head(10)\n",
    "\n",
    "print(top_10_customers)"
   ]
  },
  {
   "cell_type": "markdown",
   "id": "13c08f33",
   "metadata": {},
   "source": [
    "Q2. What is the total number of unique customers?"
   ]
  },
  {
   "cell_type": "code",
   "execution_count": 11,
   "id": "5de70d91",
   "metadata": {},
   "outputs": [
    {
     "data": {
      "text/plain": [
       "array(['Richard', 'Nick', 'Morgan', 'Susan', 'Matthew', 'James', 'Smith',\n",
       "       'Bill', 'Thomas', 'Rachel', 'Alex'], dtype=object)"
      ]
     },
     "execution_count": 11,
     "metadata": {},
     "output_type": "execute_result"
    }
   ],
   "source": [
    "# Total no. of Unique Customers\n",
    "df['Rep'].unique()"
   ]
  },
  {
   "cell_type": "markdown",
   "id": "7b16216e",
   "metadata": {},
   "source": [
    "Q3. Analyze customer purchase frequency."
   ]
  },
  {
   "cell_type": "code",
   "execution_count": 12,
   "id": "ffccbbdd",
   "metadata": {},
   "outputs": [
    {
     "name": "stdout",
     "output_type": "stream",
     "text": [
      "Rep\n",
      "Alex       5\n",
      "Bill       5\n",
      "James      4\n",
      "Matthew    4\n",
      "Morgan     3\n",
      "Nick       2\n",
      "Rachel     4\n",
      "Richard    8\n",
      "Smith      3\n",
      "Susan      3\n",
      "Thomas     2\n",
      "dtype: int64\n"
     ]
    }
   ],
   "source": [
    "frq = df.groupby('Rep').size()\n",
    "print(frq)"
   ]
  },
  {
   "cell_type": "markdown",
   "id": "037e7d9e",
   "metadata": {},
   "source": [
    "#### Time Series Analysis: "
   ]
  },
  {
   "cell_type": "markdown",
   "id": "cc5c6a55",
   "metadata": {},
   "source": [
    "Q1. What are the monthly sales trends over the past year?"
   ]
  },
  {
   "cell_type": "markdown",
   "id": "fe789d93",
   "metadata": {},
   "source": [
    "Let's first convert the data in year and month format"
   ]
  },
  {
   "cell_type": "code",
   "execution_count": 13,
   "id": "2a772cf3",
   "metadata": {},
   "outputs": [],
   "source": [
    "df['OrderDate'] = pd.to_datetime(df['OrderDate'], format='%d-%b-%y')\n",
    "\n",
    "# Extract year and month from OrderDate\n",
    "df['YearMonth'] = df['OrderDate'].dt.to_period('M')"
   ]
  },
  {
   "cell_type": "markdown",
   "id": "00c57673",
   "metadata": {},
   "source": [
    "Now calculating monthly sales"
   ]
  },
  {
   "cell_type": "code",
   "execution_count": 14,
   "id": "6f0fc7a4",
   "metadata": {},
   "outputs": [],
   "source": [
    "# Monthly Sales\n",
    "monthly_sales = df.groupby('YearMonth')['sale'].sum().reset_index()"
   ]
  },
  {
   "cell_type": "code",
   "execution_count": 15,
   "id": "d584c412",
   "metadata": {},
   "outputs": [
    {
     "name": "stdout",
     "output_type": "stream",
     "text": [
      "   YearMonth     sale\n",
      "0    2014-07  2673.23\n",
      "1    2014-08  2005.55\n",
      "2    2014-09   666.11\n",
      "3    2014-10  1984.57\n",
      "4    2014-11   833.78\n",
      "5    2014-12  3288.47\n",
      "6    2015-01  1602.09\n",
      "7    2015-02  2044.33\n",
      "8    2015-03   556.87\n",
      "9    2015-04  1059.03\n",
      "10   2015-05  1300.35\n",
      "11   2015-06  1613.50\n"
     ]
    }
   ],
   "source": [
    "print(monthly_sales)"
   ]
  },
  {
   "cell_type": "code",
   "execution_count": 16,
   "id": "db30b515",
   "metadata": {},
   "outputs": [
    {
     "data": {
      "image/png": "[encoded data removed]",
      "text/plain": [
       "<Figure size 1000x600 with 1 Axes>"
      ]
     },
     "metadata": {},
     "output_type": "display_data"
    }
   ],
   "source": [
    "plt.figure(figsize=(10, 6))\n",
    "plt.plot(monthly_sales['YearMonth'].astype(str), monthly_sales['sale'], marker='o', linestyle='-', color='b')\n",
    "plt.title('Monthly Sales Trends Over the Past Year')\n",
    "plt.xlabel('Year-Month')\n",
    "plt.ylabel('Sales')\n",
    "plt.xticks(rotation=45)\n",
    "plt.grid(True)\n",
    "plt.tight_layout()\n",
    "\n",
    "# Show the plot\n",
    "plt.show()"
   ]
  },
  {
   "cell_type": "markdown",
   "id": "e1167bb2",
   "metadata": {},
   "source": [
    "Peaked in the month of december while March showed the lowest sale."
   ]
  },
  {
   "cell_type": "markdown",
   "id": "23490f92",
   "metadata": {},
   "source": [
    "Q2. Identify any seasonal patterns in the sales data."
   ]
  },
  {
   "cell_type": "code",
   "execution_count": null,
   "id": "0f260cb6",
   "metadata": {},
   "outputs": [],
   "source": []
  },
  {
   "cell_type": "markdown",
   "id": "7c88e6cd",
   "metadata": {},
   "source": [
    "#### Geographical Analysis: "
   ]
  },
  {
   "cell_type": "markdown",
   "id": "b6653f70",
   "metadata": {},
   "source": [
    "Q1. Which regions generate the most sales?"
   ]
  },
  {
   "cell_type": "code",
   "execution_count": 17,
   "id": "70e260cc",
   "metadata": {},
   "outputs": [
    {
     "name": "stdout",
     "output_type": "stream",
     "text": [
      "    Region      sale\n",
      "0  Central  11139.07\n",
      "1     East   6002.09\n",
      "2     West   2486.72\n"
     ]
    }
   ],
   "source": [
    "sale_by_region = df.groupby('Region')['sale'].sum().reset_index()\n",
    "print(sale_by_region)"
   ]
  },
  {
   "cell_type": "code",
   "execution_count": 21,
   "id": "10d90109",
   "metadata": {},
   "outputs": [
    {
     "data": {
      "text/plain": [
       "11139.07"
      ]
     },
     "execution_count": 21,
     "metadata": {},
     "output_type": "execute_result"
    }
   ],
   "source": [
    "sale_by_region['sale'].max()"
   ]
  },
  {
   "cell_type": "markdown",
   "id": "1a39a36f",
   "metadata": {},
   "source": [
    "Central region has the highest amount of sales - 11139.07"
   ]
  },
  {
   "cell_type": "markdown",
   "id": "26ac7470",
   "metadata": {},
   "source": [
    "Q2. What are the sales trends across different regions?"
   ]
  },
  {
   "cell_type": "code",
   "execution_count": 19,
   "id": "dfd1c144",
   "metadata": {},
   "outputs": [
    {
     "name": "stdout",
     "output_type": "stream",
     "text": [
      "Region     Central     East     West\n",
      "YearMonth                           \n",
      "2014-07     686.95  1986.28      NaN\n",
      "2014-08    1005.90   174.65   825.00\n",
      "2014-09     259.03   255.84   151.24\n",
      "2014-10     269.78   575.36  1139.43\n",
      "2014-11     533.93   299.85      NaN\n",
      "2014-12    2105.21  1183.26      NaN\n",
      "2015-01    1413.04   189.05      NaN\n",
      "2015-02    2024.37    19.96      NaN\n",
      "2015-03     249.50      NaN   307.37\n",
      "2015-04     280.59   778.44      NaN\n",
      "2015-05    1236.67      NaN    63.68\n",
      "2015-06    1074.10   539.40      NaN\n"
     ]
    }
   ],
   "source": [
    "#Monthly Sales by region\n",
    "monthly_sales_region = df.groupby(['YearMonth','Region'])['sale'].sum().unstack('Region')\n",
    "print(monthly_sales_region)"
   ]
  },
  {
   "cell_type": "code",
   "execution_count": 20,
   "id": "18793c77",
   "metadata": {},
   "outputs": [
    {
     "data": {
      "image/png": "[encoded data removed]",
      "text/plain": [
       "<Figure size 1400x800 with 1 Axes>"
      ]
     },
     "metadata": {},
     "output_type": "display_data"
    }
   ],
   "source": [
    "monthly_sales_region.plot(kind='line', figsize=(14, 8))\n",
    "plt.title('Monthly Sales Trend by Region')\n",
    "plt.xlabel('Month')\n",
    "plt.ylabel('Total Sales')\n",
    "plt.legend(title='Region')\n",
    "plt.grid(True)\n",
    "plt.show()"
   ]
  },
  {
   "cell_type": "code",
   "execution_count": null,
   "id": "5a0b3e70",
   "metadata": {},
   "outputs": [],
   "source": []
  }
 ],
 "metadata": {
  "kernelspec": {
   "display_name": "Python 3 (ipykernel)",
   "language": "python",
   "name": "python3"
  },
  "language_info": {
   "codemirror_mode": {
    "name": "ipython",
    "version": 3
   },
   "file_extension": ".py",
   "mimetype": "text/x-python",
   "name": "python",
   "nbconvert_exporter": "python",
   "pygments_lexer": "ipython3",
   "version": "3.11.4"
  }
 },
 "nbformat": 4,
 "nbformat_minor": 5
}
